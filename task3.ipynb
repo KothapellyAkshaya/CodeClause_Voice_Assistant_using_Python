{
 "cells": [
  {
   "cell_type": "code",
   "execution_count": 18,
   "metadata": {},
   "outputs": [
    {
     "name": "stdout",
     "output_type": "stream",
     "text": [
      "THIS MAY TAKE A WHILE DEPENDING ON YOUR SYSTEM AND INTERNET SPEED\n",
      "\n",
      "PLEASE WAIT..\n",
      "\n",
      "\n"
     ]
    },
    {
     "ename": "OperationalError",
     "evalue": "unable to open database file",
     "output_type": "error",
     "traceback": [
      "\u001b[1;31m---------------------------------------------------------------------------\u001b[0m",
      "\u001b[1;31mOperationalError\u001b[0m                          Traceback (most recent call last)",
      "\u001b[1;32m<ipython-input-18-33e656625645>\u001b[0m in \u001b[0;36m<module>\u001b[1;34m\u001b[0m\n\u001b[0;32m     15\u001b[0m \u001b[1;33m\u001b[0m\u001b[0m\n\u001b[0;32m     16\u001b[0m \u001b[1;32mimport\u001b[0m \u001b[0msqlite3\u001b[0m\u001b[1;33m\u001b[0m\u001b[1;33m\u001b[0m\u001b[0m\n\u001b[1;32m---> 17\u001b[1;33m \u001b[0mconn\u001b[0m \u001b[1;33m=\u001b[0m \u001b[0msqlite3\u001b[0m\u001b[1;33m.\u001b[0m\u001b[0mconnect\u001b[0m\u001b[1;33m(\u001b[0m\u001b[1;34m'Data/chats.db'\u001b[0m\u001b[1;33m)\u001b[0m\u001b[1;33m\u001b[0m\u001b[1;33m\u001b[0m\u001b[0m\n\u001b[0m\u001b[0;32m     18\u001b[0m \u001b[0mcursor\u001b[0m \u001b[1;33m=\u001b[0m \u001b[0mconn\u001b[0m\u001b[1;33m.\u001b[0m\u001b[0mcursor\u001b[0m\u001b[1;33m(\u001b[0m\u001b[1;33m)\u001b[0m\u001b[1;33m\u001b[0m\u001b[1;33m\u001b[0m\u001b[0m\n\u001b[0;32m     19\u001b[0m table = '''CREATE TABLE IF NOT EXISTS ASSISTANT (SERIAL_NO INTEGER PRIMARY KEY,\n",
      "\u001b[1;31mOperationalError\u001b[0m: unable to open database file"
     ]
    }
   ],
   "source": [
    "import subprocess\n",
    "\n",
    "print(\"THIS MAY TAKE A WHILE DEPENDING ON YOUR SYSTEM AND INTERNET SPEED\\n\\nPLEASE WAIT..\\n\\n\")\n",
    "\n",
    "try:\n",
    "    subprocess.run([\"pip\", \"install\", \"-r\", \"requirements.txt\"])\n",
    "except KeyboardInterrupt:\n",
    "    print(\"DOWNLOAD STOPPED\")\n",
    "    exit(0)\n",
    "\n",
    "import os\n",
    "import logging\n",
    "logging.disable(logging.WARNING)\n",
    "os.environ['TF_CPP_MIN_LOG_LEVEL'] = '3' # disabling warnings for gpu requirements\n",
    "\n",
    "import sqlite3\n",
    "conn = sqlite3.connect('Data/chats.db')\n",
    "cursor = conn.cursor()\n",
    "table = '''CREATE TABLE IF NOT EXISTS ASSISTANT (SERIAL_NO INTEGER PRIMARY KEY,\n",
    "            QUERY VARCHAR(255) NOT NULL ,\n",
    "            DATE_TIME VARCHAR(50) NOT NULL );'''\n",
    "cursor.execute(table)\n",
    "conn.commit()\n",
    "\n",
    "try:\n",
    "    # importing prebuilt modules\n",
    "    import pyttsx3\n",
    "    from keras_preprocessing.sequence import pad_sequences\n",
    "    import numpy as np\n",
    "    from keras.models import load_model\n",
    "    from pickle import load\n",
    "    import speech_recognition as sr\n",
    "    import sys\n",
    "    from keras.preprocessing.text import Tokenizer\n",
    "    from keras_preprocessing.sequence import pad_sequences\n",
    "    from sklearn.preprocessing import LabelEncoder\n",
    "    from tensorflow.python.keras.models import Sequential\n",
    "    from tensorflow.python.keras.layers import Dense, Embedding, GlobalAveragePooling1D\n",
    "    import datetime\n",
    "    from dotenv import load_dotenv\n",
    "    from newsapi import NewsApiClient\n",
    "    import re\n",
    "    import requests\n",
    "    from wolframalpha import Client\n",
    "    import webbrowser\n",
    "    import wikipedia\n",
    "    import speedtest\n",
    "    from youtubesearchpython import VideosSearch\n",
    "    import smtplib\n",
    "    import io\n",
    "    import warnings\n",
    "    from PIL import Image\n",
    "    from stability_sdk import client\n",
    "    import stability_sdk.interfaces.gooseai.generation.generation_pb2 as generation\n",
    "    import math\n",
    "    import psutil\n",
    "    import time\n",
    "    from random import randint\n",
    "    import AppOpener\n",
    "    from pynput.keyboard import Key, Controller\n",
    "    from PIL import ImageGrab\n",
    "    import wmi\n",
    "except ImportError:\n",
    "    print(\"MODULES NOT INSTALLED!\")\n",
    "    exit(0)\n",
    "except KeyboardInterrupt:\n",
    "    print(\"INTERRUPTED WHILE IMPORTING MODULES\")\n",
    "\n",
    "print(\"\\n\\nSETUP SUCCESSFUL\")"
   ]
  },
  {
   "cell_type": "code",
   "execution_count": null,
   "metadata": {},
   "outputs": [],
   "source": []
  },
  {
   "cell_type": "code",
   "execution_count": null,
   "metadata": {},
   "outputs": [],
   "source": []
  }
 ],
 "metadata": {
  "kernelspec": {
   "display_name": "Python 3",
   "language": "python",
   "name": "python3"
  },
  "language_info": {
   "codemirror_mode": {
    "name": "ipython",
    "version": 3
   },
   "file_extension": ".py",
   "mimetype": "text/x-python",
   "name": "python",
   "nbconvert_exporter": "python",
   "pygments_lexer": "ipython3",
   "version": "3.8.5"
  }
 },
 "nbformat": 4,
 "nbformat_minor": 4
}
